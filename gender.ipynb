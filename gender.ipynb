{
 "cells": [
  {
   "metadata": {
    "ExecuteTime": {
     "end_time": "2024-10-30T11:23:52.836615Z",
     "start_time": "2024-10-30T11:23:43.005006Z"
    }
   },
   "cell_type": "code",
   "source": [
    "import torch\n",
    "from transformers import AutoTokenizer, AutoModelForSequenceClassification"
   ],
   "id": "802a8ec0280dcf3e",
   "outputs": [],
   "execution_count": 1
  },
  {
   "metadata": {
    "ExecuteTime": {
     "end_time": "2024-10-30T11:25:10.258926Z",
     "start_time": "2024-10-30T11:25:10.250056Z"
    }
   },
   "cell_type": "code",
   "source": "device = 'cuda' if torch.cuda.is_available() else 'cpu'",
   "id": "b7270cdba4aa09f1",
   "outputs": [],
   "execution_count": 2
  },
  {
   "cell_type": "code",
   "id": "initial_id",
   "metadata": {
    "collapsed": true,
    "ExecuteTime": {
     "end_time": "2024-10-30T11:29:03.293904Z",
     "start_time": "2024-10-30T11:28:56.947892Z"
    }
   },
   "source": [
    "classifier = AutoModelForSequenceClassification.from_pretrained(\"padmajabfrl/Gender-Classification\")\n",
    "classifier.to(device)\n",
    "tokenizer = AutoTokenizer.from_pretrained(\"padmajabfrl/Gender-Classification\")"
   ],
   "outputs": [
    {
     "data": {
      "text/plain": [
       "config.json:   0%|          | 0.00/723 [00:00<?, ?B/s]"
      ],
      "application/vnd.jupyter.widget-view+json": {
       "version_major": 2,
       "version_minor": 0,
       "model_id": "27ebaa6b693f48069cb4ae135c62d61e"
      }
     },
     "metadata": {},
     "output_type": "display_data"
    },
    {
     "data": {
      "text/plain": [
       "pytorch_model.bin:   0%|          | 0.00/268M [00:00<?, ?B/s]"
      ],
      "application/vnd.jupyter.widget-view+json": {
       "version_major": 2,
       "version_minor": 0,
       "model_id": "60d98bbbd4a247ac8c0c08e7aaa2164b"
      }
     },
     "metadata": {},
     "output_type": "display_data"
    },
    {
     "data": {
      "text/plain": [
       "tokenizer_config.json:   0%|          | 0.00/360 [00:00<?, ?B/s]"
      ],
      "application/vnd.jupyter.widget-view+json": {
       "version_major": 2,
       "version_minor": 0,
       "model_id": "b1255f3747bc465f9bad9cb75f31dd19"
      }
     },
     "metadata": {},
     "output_type": "display_data"
    },
    {
     "data": {
      "text/plain": [
       "vocab.txt:   0%|          | 0.00/232k [00:00<?, ?B/s]"
      ],
      "application/vnd.jupyter.widget-view+json": {
       "version_major": 2,
       "version_minor": 0,
       "model_id": "672af7b4337147489856eb5f561fe978"
      }
     },
     "metadata": {},
     "output_type": "display_data"
    },
    {
     "data": {
      "text/plain": [
       "tokenizer.json:   0%|          | 0.00/712k [00:00<?, ?B/s]"
      ],
      "application/vnd.jupyter.widget-view+json": {
       "version_major": 2,
       "version_minor": 0,
       "model_id": "8ab779cb81c84e8fbe4dc68415ab9125"
      }
     },
     "metadata": {},
     "output_type": "display_data"
    },
    {
     "data": {
      "text/plain": [
       "special_tokens_map.json:   0%|          | 0.00/125 [00:00<?, ?B/s]"
      ],
      "application/vnd.jupyter.widget-view+json": {
       "version_major": 2,
       "version_minor": 0,
       "model_id": "875e95b256ef4934831d87b26681a81a"
      }
     },
     "metadata": {},
     "output_type": "display_data"
    }
   ],
   "execution_count": 11
  },
  {
   "metadata": {
    "ExecuteTime": {
     "end_time": "2024-10-30T11:35:43.662207Z",
     "start_time": "2024-10-30T11:35:43.647885Z"
    }
   },
   "cell_type": "code",
   "source": [
    "def gender(name):\n",
    "    # Tokenisation and shortening to the maximum length\n",
    "    tokens = tokenizer(name, return_tensors=\"pt\").to(device)\n",
    "\n",
    "    # Perform sentiment analysis for the shortened text\n",
    "    logits = classifier(**tokens).logits\n",
    "    predicted_index = torch.argmax(logits, dim=1).item()\n",
    "    return {0: 'm', 1: 'f'}[predicted_index]"
   ],
   "id": "d43a19afc92e1c65",
   "outputs": [],
   "execution_count": 26
  },
  {
   "metadata": {
    "ExecuteTime": {
     "end_time": "2024-10-30T11:37:29.825390Z",
     "start_time": "2024-10-30T11:37:28.835209Z"
    }
   },
   "cell_type": "code",
   "source": [
    "names = ['Luis', 'Diego', 'Fabian', 'Alexandre', 'KK', \n",
    "         'Marina', 'Katharina', 'Mónia', 'Moritz', 'Salvador', \n",
    "         'Javier', 'Ewa', 'Saiqa', 'Freddy', 'Carlos', 'Isabella']\n",
    "for name in names:\n",
    "    print(name, gender(name))"
   ],
   "id": "e403dc54b82b5e98",
   "outputs": [
    {
     "name": "stdout",
     "output_type": "stream",
     "text": [
      "Luis m\n",
      "Diego m\n",
      "Fabian m\n",
      "Alexandre m\n",
      "KK m\n",
      "Marina f\n",
      "Katharina f\n",
      "Mónia f\n",
      "Moritz m\n",
      "Salvador m\n",
      "Javier m\n",
      "Ewa f\n",
      "Saiqa f\n",
      "Freddy m\n",
      "Carlos m\n",
      "Isabella f\n"
     ]
    }
   ],
   "execution_count": 28
  },
  {
   "metadata": {
    "ExecuteTime": {
     "end_time": "2024-10-30T11:25:50.542443Z",
     "start_time": "2024-10-30T11:25:50.527520Z"
    }
   },
   "cell_type": "code",
   "source": "",
   "id": "e1d8fac696926b90",
   "outputs": [
    {
     "data": {
      "text/plain": [
       "1"
      ]
     },
     "execution_count": 7,
     "metadata": {},
     "output_type": "execute_result"
    }
   ],
   "execution_count": 7
  }
 ],
 "metadata": {
  "kernelspec": {
   "display_name": "Python 3",
   "language": "python",
   "name": "python3"
  },
  "language_info": {
   "codemirror_mode": {
    "name": "ipython",
    "version": 2
   },
   "file_extension": ".py",
   "mimetype": "text/x-python",
   "name": "python",
   "nbconvert_exporter": "python",
   "pygments_lexer": "ipython2",
   "version": "2.7.6"
  }
 },
 "nbformat": 4,
 "nbformat_minor": 5
}
