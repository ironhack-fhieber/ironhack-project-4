{
 "cells": [
  {
   "metadata": {
    "id": "13a685dcad2a020d"
   },
   "cell_type": "markdown",
   "source": [
    "# Project"
   ],
   "id": "13a685dcad2a020d"
  },
  {
   "cell_type": "code",
   "id": "initial_id",
   "metadata": {
    "collapsed": true,
    "colab": {
     "base_uri": "https://localhost:8080/"
    },
    "id": "initial_id",
    "executionInfo": {
     "status": "ok",
     "timestamp": 1730115252304,
     "user_tz": -60,
     "elapsed": 25868,
     "user": {
      "displayName": "Fabian Hieber",
      "userId": "06681858431281640040"
     }
    },
    "outputId": "733952f3-7ecc-4d3e-fba5-cc94e72b0fb1",
    "ExecuteTime": {
     "end_time": "2024-10-28T17:15:01.316512Z",
     "start_time": "2024-10-28T17:14:44.568846Z"
    }
   },
   "source": [
    "!pip install langchain langchain-community openai youtube-transcript-api langsmith\n",
    "!pip install tiktoken\n",
    "!pip install faiss-cpu"
   ],
   "outputs": [
    {
     "name": "stdout",
     "output_type": "stream",
     "text": [
      "Requirement already satisfied: langchain in c:\\users\\hibi9\\appdata\\local\\packages\\pythonsoftwarefoundation.python.3.9_qbz5n2kfra8p0\\localcache\\local-packages\\python39\\site-packages (0.3.4)\n",
      "Requirement already satisfied: langchain-community in c:\\users\\hibi9\\appdata\\local\\packages\\pythonsoftwarefoundation.python.3.9_qbz5n2kfra8p0\\localcache\\local-packages\\python39\\site-packages (0.3.3)\n",
      "Requirement already satisfied: openai in c:\\users\\hibi9\\appdata\\local\\packages\\pythonsoftwarefoundation.python.3.9_qbz5n2kfra8p0\\localcache\\local-packages\\python39\\site-packages (1.52.1)\n",
      "Requirement already satisfied: youtube-transcript-api in c:\\users\\hibi9\\appdata\\local\\packages\\pythonsoftwarefoundation.python.3.9_qbz5n2kfra8p0\\localcache\\local-packages\\python39\\site-packages (0.6.2)\n",
      "Requirement already satisfied: langsmith in c:\\users\\hibi9\\appdata\\local\\packages\\pythonsoftwarefoundation.python.3.9_qbz5n2kfra8p0\\localcache\\local-packages\\python39\\site-packages (0.1.129)\n",
      "Requirement already satisfied: PyYAML>=5.3 in c:\\users\\hibi9\\appdata\\local\\packages\\pythonsoftwarefoundation.python.3.9_qbz5n2kfra8p0\\localcache\\local-packages\\python39\\site-packages (from langchain) (6.0.2)\n",
      "Requirement already satisfied: SQLAlchemy<3,>=1.4 in c:\\users\\hibi9\\appdata\\local\\packages\\pythonsoftwarefoundation.python.3.9_qbz5n2kfra8p0\\localcache\\local-packages\\python39\\site-packages (from langchain) (2.0.36)\n",
      "Requirement already satisfied: aiohttp<4.0.0,>=3.8.3 in c:\\users\\hibi9\\appdata\\local\\packages\\pythonsoftwarefoundation.python.3.9_qbz5n2kfra8p0\\localcache\\local-packages\\python39\\site-packages (from langchain) (3.10.9)\n",
      "Requirement already satisfied: async-timeout<5.0.0,>=4.0.0 in c:\\users\\hibi9\\appdata\\local\\packages\\pythonsoftwarefoundation.python.3.9_qbz5n2kfra8p0\\localcache\\local-packages\\python39\\site-packages (from langchain) (4.0.3)\n",
      "Requirement already satisfied: langchain-core<0.4.0,>=0.3.12 in c:\\users\\hibi9\\appdata\\local\\packages\\pythonsoftwarefoundation.python.3.9_qbz5n2kfra8p0\\localcache\\local-packages\\python39\\site-packages (from langchain) (0.3.12)\n",
      "Requirement already satisfied: langchain-text-splitters<0.4.0,>=0.3.0 in c:\\users\\hibi9\\appdata\\local\\packages\\pythonsoftwarefoundation.python.3.9_qbz5n2kfra8p0\\localcache\\local-packages\\python39\\site-packages (from langchain) (0.3.0)\n",
      "Requirement already satisfied: numpy<2,>=1 in c:\\users\\hibi9\\appdata\\local\\packages\\pythonsoftwarefoundation.python.3.9_qbz5n2kfra8p0\\localcache\\local-packages\\python39\\site-packages (from langchain) (1.26.4)\n",
      "Requirement already satisfied: pydantic<3.0.0,>=2.7.4 in c:\\users\\hibi9\\appdata\\local\\packages\\pythonsoftwarefoundation.python.3.9_qbz5n2kfra8p0\\localcache\\local-packages\\python39\\site-packages (from langchain) (2.9.2)\n",
      "Requirement already satisfied: requests<3,>=2 in c:\\users\\hibi9\\appdata\\local\\packages\\pythonsoftwarefoundation.python.3.9_qbz5n2kfra8p0\\localcache\\local-packages\\python39\\site-packages (from langchain) (2.32.3)\n",
      "Requirement already satisfied: tenacity!=8.4.0,<10,>=8.1.0 in c:\\users\\hibi9\\appdata\\local\\packages\\pythonsoftwarefoundation.python.3.9_qbz5n2kfra8p0\\localcache\\local-packages\\python39\\site-packages (from langchain) (8.5.0)\n",
      "Requirement already satisfied: dataclasses-json<0.7,>=0.5.7 in c:\\users\\hibi9\\appdata\\local\\packages\\pythonsoftwarefoundation.python.3.9_qbz5n2kfra8p0\\localcache\\local-packages\\python39\\site-packages (from langchain-community) (0.6.7)\n",
      "Requirement already satisfied: pydantic-settings<3.0.0,>=2.4.0 in c:\\users\\hibi9\\appdata\\local\\packages\\pythonsoftwarefoundation.python.3.9_qbz5n2kfra8p0\\localcache\\local-packages\\python39\\site-packages (from langchain-community) (2.6.0)\n",
      "Requirement already satisfied: anyio<5,>=3.5.0 in c:\\users\\hibi9\\appdata\\local\\packages\\pythonsoftwarefoundation.python.3.9_qbz5n2kfra8p0\\localcache\\local-packages\\python39\\site-packages (from openai) (4.6.0)\n",
      "Requirement already satisfied: distro<2,>=1.7.0 in c:\\users\\hibi9\\appdata\\local\\packages\\pythonsoftwarefoundation.python.3.9_qbz5n2kfra8p0\\localcache\\local-packages\\python39\\site-packages (from openai) (1.9.0)\n",
      "Requirement already satisfied: httpx<1,>=0.23.0 in c:\\users\\hibi9\\appdata\\local\\packages\\pythonsoftwarefoundation.python.3.9_qbz5n2kfra8p0\\localcache\\local-packages\\python39\\site-packages (from openai) (0.27.2)\n",
      "Requirement already satisfied: jiter<1,>=0.4.0 in c:\\users\\hibi9\\appdata\\local\\packages\\pythonsoftwarefoundation.python.3.9_qbz5n2kfra8p0\\localcache\\local-packages\\python39\\site-packages (from openai) (0.5.0)\n",
      "Requirement already satisfied: sniffio in c:\\users\\hibi9\\appdata\\local\\packages\\pythonsoftwarefoundation.python.3.9_qbz5n2kfra8p0\\localcache\\local-packages\\python39\\site-packages (from openai) (1.3.1)\n",
      "Requirement already satisfied: tqdm>4 in c:\\users\\hibi9\\appdata\\local\\packages\\pythonsoftwarefoundation.python.3.9_qbz5n2kfra8p0\\localcache\\local-packages\\python39\\site-packages (from openai) (4.66.5)\n",
      "Requirement already satisfied: typing-extensions<5,>=4.11 in c:\\users\\hibi9\\appdata\\local\\packages\\pythonsoftwarefoundation.python.3.9_qbz5n2kfra8p0\\localcache\\local-packages\\python39\\site-packages (from openai) (4.12.2)\n",
      "Requirement already satisfied: orjson<4.0.0,>=3.9.14 in c:\\users\\hibi9\\appdata\\local\\packages\\pythonsoftwarefoundation.python.3.9_qbz5n2kfra8p0\\localcache\\local-packages\\python39\\site-packages (from langsmith) (3.10.7)\n",
      "Requirement already satisfied: aiohappyeyeballs>=2.3.0 in c:\\users\\hibi9\\appdata\\local\\packages\\pythonsoftwarefoundation.python.3.9_qbz5n2kfra8p0\\localcache\\local-packages\\python39\\site-packages (from aiohttp<4.0.0,>=3.8.3->langchain) (2.4.3)\n",
      "Requirement already satisfied: aiosignal>=1.1.2 in c:\\users\\hibi9\\appdata\\local\\packages\\pythonsoftwarefoundation.python.3.9_qbz5n2kfra8p0\\localcache\\local-packages\\python39\\site-packages (from aiohttp<4.0.0,>=3.8.3->langchain) (1.3.1)\n",
      "Requirement already satisfied: attrs>=17.3.0 in c:\\users\\hibi9\\appdata\\local\\packages\\pythonsoftwarefoundation.python.3.9_qbz5n2kfra8p0\\localcache\\local-packages\\python39\\site-packages (from aiohttp<4.0.0,>=3.8.3->langchain) (24.2.0)\n",
      "Requirement already satisfied: frozenlist>=1.1.1 in c:\\users\\hibi9\\appdata\\local\\packages\\pythonsoftwarefoundation.python.3.9_qbz5n2kfra8p0\\localcache\\local-packages\\python39\\site-packages (from aiohttp<4.0.0,>=3.8.3->langchain) (1.4.1)\n",
      "Requirement already satisfied: multidict<7.0,>=4.5 in c:\\users\\hibi9\\appdata\\local\\packages\\pythonsoftwarefoundation.python.3.9_qbz5n2kfra8p0\\localcache\\local-packages\\python39\\site-packages (from aiohttp<4.0.0,>=3.8.3->langchain) (6.1.0)\n",
      "Requirement already satisfied: yarl<2.0,>=1.12.0 in c:\\users\\hibi9\\appdata\\local\\packages\\pythonsoftwarefoundation.python.3.9_qbz5n2kfra8p0\\localcache\\local-packages\\python39\\site-packages (from aiohttp<4.0.0,>=3.8.3->langchain) (1.14.0)\n",
      "Requirement already satisfied: idna>=2.8 in c:\\users\\hibi9\\appdata\\local\\packages\\pythonsoftwarefoundation.python.3.9_qbz5n2kfra8p0\\localcache\\local-packages\\python39\\site-packages (from anyio<5,>=3.5.0->openai) (2.10)\n",
      "Requirement already satisfied: exceptiongroup>=1.0.2 in c:\\users\\hibi9\\appdata\\local\\packages\\pythonsoftwarefoundation.python.3.9_qbz5n2kfra8p0\\localcache\\local-packages\\python39\\site-packages (from anyio<5,>=3.5.0->openai) (1.2.2)\n",
      "Requirement already satisfied: marshmallow<4.0.0,>=3.18.0 in c:\\users\\hibi9\\appdata\\local\\packages\\pythonsoftwarefoundation.python.3.9_qbz5n2kfra8p0\\localcache\\local-packages\\python39\\site-packages (from dataclasses-json<0.7,>=0.5.7->langchain-community) (3.23.0)\n",
      "Requirement already satisfied: typing-inspect<1,>=0.4.0 in c:\\users\\hibi9\\appdata\\local\\packages\\pythonsoftwarefoundation.python.3.9_qbz5n2kfra8p0\\localcache\\local-packages\\python39\\site-packages (from dataclasses-json<0.7,>=0.5.7->langchain-community) (0.9.0)\n",
      "Requirement already satisfied: certifi in c:\\users\\hibi9\\appdata\\local\\packages\\pythonsoftwarefoundation.python.3.9_qbz5n2kfra8p0\\localcache\\local-packages\\python39\\site-packages (from httpx<1,>=0.23.0->openai) (2020.12.5)\n",
      "Requirement already satisfied: httpcore==1.* in c:\\users\\hibi9\\appdata\\local\\packages\\pythonsoftwarefoundation.python.3.9_qbz5n2kfra8p0\\localcache\\local-packages\\python39\\site-packages (from httpx<1,>=0.23.0->openai) (1.0.5)\n",
      "Requirement already satisfied: h11<0.15,>=0.13 in c:\\users\\hibi9\\appdata\\local\\packages\\pythonsoftwarefoundation.python.3.9_qbz5n2kfra8p0\\localcache\\local-packages\\python39\\site-packages (from httpcore==1.*->httpx<1,>=0.23.0->openai) (0.14.0)\n",
      "Requirement already satisfied: jsonpatch<2.0,>=1.33 in c:\\users\\hibi9\\appdata\\local\\packages\\pythonsoftwarefoundation.python.3.9_qbz5n2kfra8p0\\localcache\\local-packages\\python39\\site-packages (from langchain-core<0.4.0,>=0.3.12->langchain) (1.33)\n",
      "Requirement already satisfied: packaging<25,>=23.2 in c:\\users\\hibi9\\appdata\\local\\packages\\pythonsoftwarefoundation.python.3.9_qbz5n2kfra8p0\\localcache\\local-packages\\python39\\site-packages (from langchain-core<0.4.0,>=0.3.12->langchain) (24.1)\n",
      "Requirement already satisfied: annotated-types>=0.6.0 in c:\\users\\hibi9\\appdata\\local\\packages\\pythonsoftwarefoundation.python.3.9_qbz5n2kfra8p0\\localcache\\local-packages\\python39\\site-packages (from pydantic<3.0.0,>=2.7.4->langchain) (0.7.0)\n",
      "Requirement already satisfied: pydantic-core==2.23.4 in c:\\users\\hibi9\\appdata\\local\\packages\\pythonsoftwarefoundation.python.3.9_qbz5n2kfra8p0\\localcache\\local-packages\\python39\\site-packages (from pydantic<3.0.0,>=2.7.4->langchain) (2.23.4)\n",
      "Requirement already satisfied: python-dotenv>=0.21.0 in c:\\users\\hibi9\\appdata\\local\\packages\\pythonsoftwarefoundation.python.3.9_qbz5n2kfra8p0\\localcache\\local-packages\\python39\\site-packages (from pydantic-settings<3.0.0,>=2.4.0->langchain-community) (1.0.1)\n",
      "Requirement already satisfied: charset-normalizer<4,>=2 in c:\\users\\hibi9\\appdata\\local\\packages\\pythonsoftwarefoundation.python.3.9_qbz5n2kfra8p0\\localcache\\local-packages\\python39\\site-packages (from requests<3,>=2->langchain) (3.3.2)\n",
      "Requirement already satisfied: urllib3<3,>=1.21.1 in c:\\users\\hibi9\\appdata\\local\\packages\\pythonsoftwarefoundation.python.3.9_qbz5n2kfra8p0\\localcache\\local-packages\\python39\\site-packages (from requests<3,>=2->langchain) (2.2.3)\n",
      "Requirement already satisfied: greenlet!=0.4.17 in c:\\users\\hibi9\\appdata\\local\\packages\\pythonsoftwarefoundation.python.3.9_qbz5n2kfra8p0\\localcache\\local-packages\\python39\\site-packages (from SQLAlchemy<3,>=1.4->langchain) (3.1.1)\n",
      "Requirement already satisfied: colorama in c:\\users\\hibi9\\appdata\\local\\packages\\pythonsoftwarefoundation.python.3.9_qbz5n2kfra8p0\\localcache\\local-packages\\python39\\site-packages (from tqdm>4->openai) (0.4.6)\n",
      "Requirement already satisfied: jsonpointer>=1.9 in c:\\users\\hibi9\\appdata\\local\\packages\\pythonsoftwarefoundation.python.3.9_qbz5n2kfra8p0\\localcache\\local-packages\\python39\\site-packages (from jsonpatch<2.0,>=1.33->langchain-core<0.4.0,>=0.3.12->langchain) (3.0.0)\n",
      "Requirement already satisfied: mypy-extensions>=0.3.0 in c:\\users\\hibi9\\appdata\\local\\packages\\pythonsoftwarefoundation.python.3.9_qbz5n2kfra8p0\\localcache\\local-packages\\python39\\site-packages (from typing-inspect<1,>=0.4.0->dataclasses-json<0.7,>=0.5.7->langchain-community) (1.0.0)\n",
      "Requirement already satisfied: propcache>=0.2.0 in c:\\users\\hibi9\\appdata\\local\\packages\\pythonsoftwarefoundation.python.3.9_qbz5n2kfra8p0\\localcache\\local-packages\\python39\\site-packages (from yarl<2.0,>=1.12.0->aiohttp<4.0.0,>=3.8.3->langchain) (0.2.0)\n"
     ]
    },
    {
     "name": "stderr",
     "output_type": "stream",
     "text": [
      "\n",
      "[notice] A new release of pip is available: 24.2 -> 24.3.1\n",
      "[notice] To update, run: python.exe -m pip install --upgrade pip\n"
     ]
    },
    {
     "name": "stdout",
     "output_type": "stream",
     "text": [
      "Requirement already satisfied: tiktoken in c:\\users\\hibi9\\appdata\\local\\packages\\pythonsoftwarefoundation.python.3.9_qbz5n2kfra8p0\\localcache\\local-packages\\python39\\site-packages (0.8.0)\n",
      "Requirement already satisfied: regex>=2022.1.18 in c:\\users\\hibi9\\appdata\\local\\packages\\pythonsoftwarefoundation.python.3.9_qbz5n2kfra8p0\\localcache\\local-packages\\python39\\site-packages (from tiktoken) (2024.9.11)\n",
      "Requirement already satisfied: requests>=2.26.0 in c:\\users\\hibi9\\appdata\\local\\packages\\pythonsoftwarefoundation.python.3.9_qbz5n2kfra8p0\\localcache\\local-packages\\python39\\site-packages (from tiktoken) (2.32.3)\n",
      "Requirement already satisfied: charset-normalizer<4,>=2 in c:\\users\\hibi9\\appdata\\local\\packages\\pythonsoftwarefoundation.python.3.9_qbz5n2kfra8p0\\localcache\\local-packages\\python39\\site-packages (from requests>=2.26.0->tiktoken) (3.3.2)\n",
      "Requirement already satisfied: idna<4,>=2.5 in c:\\users\\hibi9\\appdata\\local\\packages\\pythonsoftwarefoundation.python.3.9_qbz5n2kfra8p0\\localcache\\local-packages\\python39\\site-packages (from requests>=2.26.0->tiktoken) (2.10)\n",
      "Requirement already satisfied: urllib3<3,>=1.21.1 in c:\\users\\hibi9\\appdata\\local\\packages\\pythonsoftwarefoundation.python.3.9_qbz5n2kfra8p0\\localcache\\local-packages\\python39\\site-packages (from requests>=2.26.0->tiktoken) (2.2.3)\n",
      "Requirement already satisfied: certifi>=2017.4.17 in c:\\users\\hibi9\\appdata\\local\\packages\\pythonsoftwarefoundation.python.3.9_qbz5n2kfra8p0\\localcache\\local-packages\\python39\\site-packages (from requests>=2.26.0->tiktoken) (2020.12.5)\n"
     ]
    },
    {
     "name": "stderr",
     "output_type": "stream",
     "text": [
      "\n",
      "[notice] A new release of pip is available: 24.2 -> 24.3.1\n",
      "[notice] To update, run: python.exe -m pip install --upgrade pip\n",
      "\n",
      "[notice] A new release of pip is available: 24.2 -> 24.3.1\n",
      "[notice] To update, run: python.exe -m pip install --upgrade pip\n"
     ]
    },
    {
     "name": "stdout",
     "output_type": "stream",
     "text": [
      "Requirement already satisfied: faiss-cpu in c:\\users\\hibi9\\appdata\\local\\packages\\pythonsoftwarefoundation.python.3.9_qbz5n2kfra8p0\\localcache\\local-packages\\python39\\site-packages (1.9.0)\n",
      "Requirement already satisfied: numpy<3.0,>=1.25.0 in c:\\users\\hibi9\\appdata\\local\\packages\\pythonsoftwarefoundation.python.3.9_qbz5n2kfra8p0\\localcache\\local-packages\\python39\\site-packages (from faiss-cpu) (1.26.4)\n",
      "Requirement already satisfied: packaging in c:\\users\\hibi9\\appdata\\local\\packages\\pythonsoftwarefoundation.python.3.9_qbz5n2kfra8p0\\localcache\\local-packages\\python39\\site-packages (from faiss-cpu) (24.1)\n"
     ]
    }
   ],
   "execution_count": 36
  },
  {
   "metadata": {
    "id": "e6e56b8c64edad1c"
   },
   "cell_type": "markdown",
   "source": [
    "## Imports"
   ],
   "id": "e6e56b8c64edad1c"
  },
  {
   "cell_type": "code",
   "source": [
    "import os\n",
    "import re\n",
    "\n",
    "import requests\n",
    "from bs4 import BeautifulSoup\n",
    "from langchain.callbacks import LangChainTracer\n",
    "from langchain.chains import RetrievalQA\n",
    "from langchain.chains.conversation.memory import ConversationBufferWindowMemory\n",
    "from langchain.embeddings import OpenAIEmbeddings\n",
    "from langchain.llms import OpenAI\n",
    "from langchain.vectorstores import FAISS\n",
    "from langsmith import Client\n",
    "from youtube_transcript_api import YouTubeTranscriptApi"
   ],
   "metadata": {
    "id": "ofW_2-hdNbYA",
    "executionInfo": {
     "status": "ok",
     "timestamp": 1730118042084,
     "user_tz": -60,
     "elapsed": 265,
     "user": {
      "displayName": "Fabian Hieber",
      "userId": "06681858431281640040"
     }
    },
    "ExecuteTime": {
     "end_time": "2024-10-28T17:15:01.364274Z",
     "start_time": "2024-10-28T17:15:01.337825Z"
    }
   },
   "id": "ofW_2-hdNbYA",
   "outputs": [],
   "execution_count": 37
  },
  {
   "cell_type": "markdown",
   "source": [
    "## Prework"
   ],
   "metadata": {
    "id": "lO-UNHHMgrt4"
   },
   "id": "lO-UNHHMgrt4"
  },
  {
   "cell_type": "code",
   "source": [
    "# Is this workbook running on google colab?\n",
    "COLAB = False"
   ],
   "metadata": {
    "id": "YVoWorH6pU5O",
    "executionInfo": {
     "status": "ok",
     "timestamp": 1730115289831,
     "user_tz": -60,
     "elapsed": 292,
     "user": {
      "displayName": "Fabian Hieber",
      "userId": "06681858431281640040"
     }
    },
    "ExecuteTime": {
     "end_time": "2024-10-28T17:15:01.479876Z",
     "start_time": "2024-10-28T17:15:01.466688Z"
    }
   },
   "id": "YVoWorH6pU5O",
   "outputs": [],
   "execution_count": 38
  },
  {
   "metadata": {
    "id": "2961a4f1faeb1fc"
   },
   "cell_type": "markdown",
   "source": [
    "### Helper Methods"
   ],
   "id": "2961a4f1faeb1fc"
  },
  {
   "metadata": {
    "id": "41ebf5d4161a48e0",
    "executionInfo": {
     "status": "ok",
     "timestamp": 1730115263479,
     "user_tz": -60,
     "elapsed": 281,
     "user": {
      "displayName": "Fabian Hieber",
      "userId": "06681858431281640040"
     }
    },
    "ExecuteTime": {
     "end_time": "2024-10-28T17:15:01.585813Z",
     "start_time": "2024-10-28T17:15:01.573381Z"
    }
   },
   "cell_type": "code",
   "source": [
    "def get_youtube_id(video_url):\n",
    "    \"\"\"\n",
    "    Extracts the video ID from a YouTube URL.\n",
    "\n",
    "    Args:\n",
    "        video_url (str): The URL of the YouTube video.\n",
    "\n",
    "    Returns:\n",
    "        str: The extracted video ID.\n",
    "    \"\"\"\n",
    "\n",
    "    return re.search(r\"v=([^&]+)\", video_url).group(1)"
   ],
   "id": "41ebf5d4161a48e0",
   "outputs": [],
   "execution_count": 39
  },
  {
   "metadata": {
    "id": "312308f37349bd3f",
    "executionInfo": {
     "status": "ok",
     "timestamp": 1730115264603,
     "user_tz": -60,
     "elapsed": 275,
     "user": {
      "displayName": "Fabian Hieber",
      "userId": "06681858431281640040"
     }
    },
    "ExecuteTime": {
     "end_time": "2024-10-28T17:15:01.617558Z",
     "start_time": "2024-10-28T17:15:01.593956Z"
    }
   },
   "cell_type": "code",
   "source": [
    "def get_youtube_title(video_url):\n",
    "    \"\"\"\n",
    "    Extracts the title of a YouTube video.\n",
    "\n",
    "    Args:\n",
    "        video_url (str): The URL of the YouTube video.\n",
    "\n",
    "    Returns:\n",
    "        str: The title of the YouTube video.\n",
    "    \"\"\"\n",
    "\n",
    "    soup = BeautifulSoup(requests.get(video_url).text)\n",
    "    link = soup.find_all(name=\"title\")[0]\n",
    "    return re.search(r\"<title>(.*?) - YouTube</title>\", str(link)).group(1)"
   ],
   "id": "312308f37349bd3f",
   "outputs": [],
   "execution_count": 40
  },
  {
   "metadata": {
    "id": "844e7cb52e2234e1"
   },
   "cell_type": "markdown",
   "source": [
    "### Get Transcript and Title"
   ],
   "id": "844e7cb52e2234e1"
  },
  {
   "metadata": {
    "id": "f88084f792a15060",
    "executionInfo": {
     "status": "ok",
     "timestamp": 1730115266386,
     "user_tz": -60,
     "elapsed": 257,
     "user": {
      "displayName": "Fabian Hieber",
      "userId": "06681858431281640040"
     }
    },
    "ExecuteTime": {
     "end_time": "2024-10-28T17:15:01.664374Z",
     "start_time": "2024-10-28T17:15:01.652214Z"
    }
   },
   "cell_type": "code",
   "source": [
    "url = 'https://www.youtube.com/watch?v=XEzRZ35urlk'"
   ],
   "id": "f88084f792a15060",
   "outputs": [],
   "execution_count": 41
  },
  {
   "metadata": {
    "colab": {
     "base_uri": "https://localhost:8080/"
    },
    "id": "5d9a3fe87403788a",
    "executionInfo": {
     "status": "ok",
     "timestamp": 1730115267743,
     "user_tz": -60,
     "elapsed": 640,
     "user": {
      "displayName": "Fabian Hieber",
      "userId": "06681858431281640040"
     }
    },
    "outputId": "c31e80e2-efb2-4d67-fd2f-b7367edc21a6",
    "ExecuteTime": {
     "end_time": "2024-10-28T17:15:02.293445Z",
     "start_time": "2024-10-28T17:15:01.696780Z"
    }
   },
   "cell_type": "code",
   "source": [
    "print(get_youtube_title(url))\n",
    "print(get_youtube_id(url))"
   ],
   "id": "5d9a3fe87403788a",
   "outputs": [
    {
     "name": "stdout",
     "output_type": "stream",
     "text": [
      "Google Keynote (Google I/O ‘24)\n",
      "XEzRZ35urlk\n"
     ]
    }
   ],
   "execution_count": 42
  },
  {
   "cell_type": "code",
   "source": [
    "video_title = get_youtube_title(url)\n",
    "raw_transcript = YouTubeTranscriptApi.get_transcript(get_youtube_id(url))"
   ],
   "metadata": {
    "id": "5JTGoL7UzhMt",
    "executionInfo": {
     "status": "ok",
     "timestamp": 1730115269145,
     "user_tz": -60,
     "elapsed": 1405,
     "user": {
      "displayName": "Fabian Hieber",
      "userId": "06681858431281640040"
     }
    },
    "ExecuteTime": {
     "end_time": "2024-10-28T17:15:03.834766Z",
     "start_time": "2024-10-28T17:15:02.340916Z"
    }
   },
   "id": "5JTGoL7UzhMt",
   "outputs": [],
   "execution_count": 43
  },
  {
   "cell_type": "code",
   "source": [
    "raw_transcript[0:5]"
   ],
   "metadata": {
    "colab": {
     "base_uri": "https://localhost:8080/"
    },
    "id": "mh-J0U0-0H9m",
    "executionInfo": {
     "status": "ok",
     "timestamp": 1730115271553,
     "user_tz": -60,
     "elapsed": 294,
     "user": {
      "displayName": "Fabian Hieber",
      "userId": "06681858431281640040"
     }
    },
    "outputId": "0a869482-da4a-4111-f072-35149f3a7d18",
    "ExecuteTime": {
     "end_time": "2024-10-28T17:15:03.914236Z",
     "start_time": "2024-10-28T17:15:03.890769Z"
    }
   },
   "id": "mh-J0U0-0H9m",
   "outputs": [
    {
     "data": {
      "text/plain": [
       "[{'text': '[Cheers and Applause].\\n>>WOMAN: Google’s ambitions in\\xa0',\n",
       "  'start': 0.0,\n",
       "  'duration': 1.52},\n",
       " {'text': 'artificial intelligence.\\n>>MAN: Google launches Gemini,\\xa0',\n",
       "  'start': 1.52,\n",
       "  'duration': 2.36},\n",
       " {'text': \"the generative AI.\\n>> And it's completely changing\\xa0\",\n",
       "  'start': 3.88,\n",
       "  'duration': 2.6},\n",
       " {'text': 'the way we work.\\n>> You know, a lot has happened\\xa0',\n",
       "  'start': 6.48,\n",
       "  'duration': 3.28},\n",
       " {'text': 'in a year.\\nThere have been new beginnings.\\xa0',\n",
       "  'start': 9.76,\n",
       "  'duration': 6.0}]"
      ]
     },
     "execution_count": 44,
     "metadata": {},
     "output_type": "execute_result"
    }
   ],
   "execution_count": 44
  },
  {
   "cell_type": "code",
   "source": [
    "transcript = \" \".join([entry['text'] for entry in raw_transcript])"
   ],
   "metadata": {
    "id": "1I4Ny8b_GJQC",
    "executionInfo": {
     "status": "ok",
     "timestamp": 1730115273791,
     "user_tz": -60,
     "elapsed": 290,
     "user": {
      "displayName": "Fabian Hieber",
      "userId": "06681858431281640040"
     }
    },
    "ExecuteTime": {
     "end_time": "2024-10-28T17:15:04.057727Z",
     "start_time": "2024-10-28T17:15:04.035595Z"
    }
   },
   "id": "1I4Ny8b_GJQC",
   "outputs": [],
   "execution_count": 45
  },
  {
   "cell_type": "markdown",
   "source": [
    "## LLM and Embeddings"
   ],
   "metadata": {
    "id": "njhwWarQjoZD"
   },
   "id": "njhwWarQjoZD"
  },
  {
   "cell_type": "code",
   "source": [
    "if COLAB:\n",
    "    from google.colab import userdata\n",
    "\n",
    "    OPENAI_API_KEY = userdata.get('OPENAI_API_KEY')\n",
    "    LANGCHAIN_API_KEY = userdata.get('LANGCHAIN_API_KEY')\n",
    "else:\n",
    "    from dotenv import load_dotenv, find_dotenv\n",
    "\n",
    "    _ = load_dotenv(find_dotenv())\n",
    "    OPENAI_API_KEY = os.getenv('OPENAI_API_KEY')\n",
    "    LANGCHAIN_API_KEY = os.getenv('LANGCHAIN_API_KEY')"
   ],
   "metadata": {
    "id": "SnAemSjmzh4T",
    "executionInfo": {
     "status": "ok",
     "timestamp": 1730115328034,
     "user_tz": -60,
     "elapsed": 3889,
     "user": {
      "displayName": "Fabian Hieber",
      "userId": "06681858431281640040"
     }
    },
    "ExecuteTime": {
     "end_time": "2024-10-28T17:15:04.171983Z",
     "start_time": "2024-10-28T17:15:04.135296Z"
    }
   },
   "id": "SnAemSjmzh4T",
   "outputs": [],
   "execution_count": 46
  },
  {
   "cell_type": "code",
   "source": [
    "os.environ[\"LANGCHAIN_API_KEY\"] = LANGCHAIN_API_KEY\n",
    "os.environ[\"LANGCHAIN_PROJECT\"] = 'youtube-project'\n",
    "os.environ['LANGCHAIN_TRACING_V2'] = 'true'  # enables tracing"
   ],
   "metadata": {
    "id": "EYTn_8mV08Tv",
    "executionInfo": {
     "status": "ok",
     "timestamp": 1730115346266,
     "user_tz": -60,
     "elapsed": 288,
     "user": {
      "displayName": "Fabian Hieber",
      "userId": "06681858431281640040"
     }
    },
    "ExecuteTime": {
     "end_time": "2024-10-28T17:15:04.308837Z",
     "start_time": "2024-10-28T17:15:04.285546Z"
    }
   },
   "id": "EYTn_8mV08Tv",
   "outputs": [],
   "execution_count": 47
  },
  {
   "cell_type": "markdown",
   "source": [
    "### Helper Methods"
   ],
   "metadata": {
    "id": "pn1a-N4qjWES"
   },
   "id": "pn1a-N4qjWES"
  },
  {
   "cell_type": "code",
   "source": [
    "def clear_text(raw_text):\n",
    "    \"\"\"\n",
    "    Cleans the input text by removing unwanted characters and formatting.\n",
    "\n",
    "    Args:\n",
    "        raw_text (str): The input text to be cleaned.\n",
    "\n",
    "    Returns:\n",
    "        str: The cleaned text.\n",
    "    \"\"\"\n",
    "\n",
    "    # Remove bracketed content using regex\n",
    "    raw_text = re.sub(r\"\\[.*?\\]\", \"\", raw_text)\n",
    "\n",
    "    # Replace newline and non-breaking space characters with spaces\n",
    "    raw_text = raw_text.replace(\"\\n\", \" \").replace(\"\\xa0\", \" \")\n",
    "\n",
    "    # Remove speaker indicators using regex\n",
    "    raw_text = re.sub(r\">>.+?:\", \"\", raw_text)\n",
    "\n",
    "    # Remove all double Spaces\n",
    "    raw_text = raw_text.replace(\"  \", \" \")\n",
    "\n",
    "    # Remove doubled stops\n",
    "    raw_text = raw_text.replace(\". . \", \". \")\n",
    "\n",
    "    # Remove leading and trailing spaces\n",
    "    return raw_text.strip()"
   ],
   "metadata": {
    "id": "uLQzmwd7goAV",
    "executionInfo": {
     "status": "ok",
     "timestamp": 1730115348375,
     "user_tz": -60,
     "elapsed": 282,
     "user": {
      "displayName": "Fabian Hieber",
      "userId": "06681858431281640040"
     }
    },
    "ExecuteTime": {
     "end_time": "2024-10-28T17:15:04.400417Z",
     "start_time": "2024-10-28T17:15:04.377313Z"
    }
   },
   "id": "uLQzmwd7goAV",
   "outputs": [],
   "execution_count": 48
  },
  {
   "cell_type": "code",
   "source": [
    "def select_timestamps(sources):\n",
    "    \"\"\"\n",
    "    Selects relevant timestamps from a list of source documents.\n",
    "\n",
    "    Args:\n",
    "        sources (list): A list of source documents, each containing a metadata dictionary with a \"timestamp\" key.\n",
    "\n",
    "    Returns:\n",
    "        list: A list of selected timestamps, sorted in ascending order and deduplicated.\n",
    "        Timestamps that are too close to the previous timestamp are removed to avoid redundancy.\n",
    "    \"\"\"\n",
    "\n",
    "    timestamps = [int(source.metadata[\"timestamp\"]) for source in sources]\n",
    "    timestamps = sorted(list(set(timestamps)))  # Deduplicate timestamps and sort it\n",
    "\n",
    "    # now remove timestamps which are too close to the timestamp before\n",
    "    result = []\n",
    "    threshold = 100\n",
    "    last_number = None  # Initialize to None to avoid skipping the first element\n",
    "\n",
    "    for number in timestamps:\n",
    "        if last_number is None or number - last_number >= threshold:\n",
    "            result.append(number)\n",
    "            last_number = number  # Update last_number for the next iteration\n",
    "\n",
    "    return result"
   ],
   "metadata": {
    "id": "eqa0LWRPEwSR",
    "executionInfo": {
     "status": "ok",
     "timestamp": 1730115357021,
     "user_tz": -60,
     "elapsed": 286,
     "user": {
      "displayName": "Fabian Hieber",
      "userId": "06681858431281640040"
     }
    },
    "ExecuteTime": {
     "end_time": "2024-10-28T17:15:04.473299Z",
     "start_time": "2024-10-28T17:15:04.451818Z"
    }
   },
   "id": "eqa0LWRPEwSR",
   "outputs": [],
   "execution_count": 49
  },
  {
   "cell_type": "code",
   "source": [
    "def prompt(title, question_text):\n",
    "    \"\"\"\n",
    "    Generates a prompt for a language model to answer questions about a YouTube video.\n",
    "\n",
    "    Args:\n",
    "        title (str): The title of the YouTube video.\n",
    "        question_text (str): The question to be answered.\n",
    "\n",
    "    Returns:\n",
    "        str: A formatted prompt string containing the video title and question.\n",
    "    \"\"\"\n",
    "\n",
    "    return f\"\"\"\n",
    "              You are a helpful and informative AI assistant. You are given a transcript of a video '{title}' and asked to answer questions about it.\n",
    "              If you don't know the answer, just say 'I don't know'.\n",
    "\n",
    "              Question: {question_text}\n",
    "              \"\"\""
   ],
   "metadata": {
    "id": "Q4aFqs0uhAHT",
    "executionInfo": {
     "status": "ok",
     "timestamp": 1730115360692,
     "user_tz": -60,
     "elapsed": 286,
     "user": {
      "displayName": "Fabian Hieber",
      "userId": "06681858431281640040"
     }
    },
    "ExecuteTime": {
     "end_time": "2024-10-28T17:15:04.550775Z",
     "start_time": "2024-10-28T17:15:04.523418Z"
    }
   },
   "id": "Q4aFqs0uhAHT",
   "outputs": [],
   "execution_count": 50
  },
  {
   "cell_type": "code",
   "source": [
    "def ask_question_with_timestamp(title, question_text):\n",
    "    # Run the query to get the response and source documents\n",
    "    result = qa_chain.invoke(input=prompt(title, question_text), output_key=\"result\")\n",
    "    answer_text = clear_text(result[\"result\"])\n",
    "    sources = result[\"source_documents\"]\n",
    "\n",
    "    # define timestamps\n",
    "    timestamps = None\n",
    "    if \"I don't know.\" not in answer_text:\n",
    "        timestamps = select_timestamps(sources)\n",
    "\n",
    "    # Append timestamp information to the answer\n",
    "    return {\"answer\": answer_text, \"timestamps\": timestamps}"
   ],
   "metadata": {
    "id": "-CW6zfmK3AHm",
    "executionInfo": {
     "status": "ok",
     "timestamp": 1730118707426,
     "user_tz": -60,
     "elapsed": 265,
     "user": {
      "displayName": "Fabian Hieber",
      "userId": "06681858431281640040"
     }
    },
    "ExecuteTime": {
     "end_time": "2024-10-28T17:15:04.639858Z",
     "start_time": "2024-10-28T17:15:04.608542Z"
    }
   },
   "id": "-CW6zfmK3AHm",
   "outputs": [],
   "execution_count": 51
  },
  {
   "cell_type": "markdown",
   "source": [
    "### Langsmith"
   ],
   "metadata": {
    "id": "Az8Y7D9ysGFa"
   },
   "id": "Az8Y7D9ysGFa"
  },
  {
   "cell_type": "code",
   "source": [
    "# Initialize LangSmith client and tracer\n",
    "client = Client()\n",
    "tracer = LangChainTracer(client=client)"
   ],
   "metadata": {
    "id": "1iloT3S97JlQ",
    "executionInfo": {
     "status": "ok",
     "timestamp": 1730118696712,
     "user_tz": -60,
     "elapsed": 306,
     "user": {
      "displayName": "Fabian Hieber",
      "userId": "06681858431281640040"
     }
    },
    "ExecuteTime": {
     "end_time": "2024-10-28T17:15:04.767349Z",
     "start_time": "2024-10-28T17:15:04.738790Z"
    }
   },
   "id": "1iloT3S97JlQ",
   "outputs": [],
   "execution_count": 52
  },
  {
   "metadata": {},
   "cell_type": "markdown",
   "source": "### FAISS Embedding",
   "id": "8cf99d01001c74a0"
  },
  {
   "cell_type": "code",
   "source": [
    "chunks_with_metadata = []\n",
    "for chunk in raw_transcript:\n",
    "    text = clear_text(chunk['text'])\n",
    "    chunks_with_metadata.append({\n",
    "        \"content\": text,\n",
    "        \"timestamp\": chunk[\"start\"]\n",
    "    })"
   ],
   "metadata": {
    "id": "kIW3pJigj3F-",
    "executionInfo": {
     "status": "ok",
     "timestamp": 1730117884948,
     "user_tz": -60,
     "elapsed": 256,
     "user": {
      "displayName": "Fabian Hieber",
      "userId": "06681858431281640040"
     }
    },
    "ExecuteTime": {
     "end_time": "2024-10-28T17:15:04.830559Z",
     "start_time": "2024-10-28T17:15:04.783018Z"
    }
   },
   "id": "kIW3pJigj3F-",
   "outputs": [],
   "execution_count": 53
  },
  {
   "cell_type": "code",
   "source": [
    "# Generate embeddings for each chunk\n",
    "embeddings = OpenAIEmbeddings(api_key=OPENAI_API_KEY)\n",
    "texts = [chunk[\"content\"] for chunk in chunks_with_metadata]\n",
    "metadata = [{\"timestamp\": chunk[\"timestamp\"]} for chunk in chunks_with_metadata]\n",
    "\n",
    "vectorstore = FAISS.from_texts(texts, embeddings, metadatas=metadata)"
   ],
   "metadata": {
    "id": "CJRC5aGbj76n",
    "executionInfo": {
     "status": "ok",
     "timestamp": 1730117805948,
     "user_tz": -60,
     "elapsed": 6539,
     "user": {
      "displayName": "Fabian Hieber",
      "userId": "06681858431281640040"
     }
    },
    "ExecuteTime": {
     "end_time": "2024-10-28T17:15:13.237592Z",
     "start_time": "2024-10-28T17:15:04.882768Z"
    }
   },
   "id": "CJRC5aGbj76n",
   "outputs": [],
   "execution_count": 54
  },
  {
   "metadata": {},
   "cell_type": "markdown",
   "source": "### Model with Memory",
   "id": "e933c66dbd091659"
  },
  {
   "cell_type": "code",
   "source": [
    "# Initialize the language model\n",
    "llm = OpenAI(model_name=\"gpt-3.5-turbo-instruct\", api_key=OPENAI_API_KEY, temperature=0)\n",
    "\n",
    "# Set up chat memory\n",
    "conversational_memory = ConversationBufferWindowMemory(\n",
    "    memory_key='youtube_project_history',\n",
    "    k=3,\n",
    "    return_messages=True,\n",
    "    output_key='result'\n",
    ")\n",
    "\n",
    "# Set up the RetrievalQA chain with vectorstore and tracer for LangSmith logging\n",
    "qa_chain = RetrievalQA.from_chain_type(\n",
    "    llm=llm,\n",
    "    chain_type=\"stuff\",\n",
    "    memory=conversational_memory,\n",
    "    retriever=vectorstore.as_retriever(),\n",
    "    return_source_documents=True,\n",
    "    callbacks=[tracer]\n",
    ")"
   ],
   "metadata": {
    "id": "-g6HLAoCj-q-",
    "executionInfo": {
     "status": "ok",
     "timestamp": 1730120427300,
     "user_tz": -60,
     "elapsed": 589,
     "user": {
      "displayName": "Fabian Hieber",
      "userId": "06681858431281640040"
     }
    },
    "ExecuteTime": {
     "end_time": "2024-10-28T17:15:13.380478Z",
     "start_time": "2024-10-28T17:15:13.275608Z"
    }
   },
   "id": "-g6HLAoCj-q-",
   "outputs": [
    {
     "name": "stderr",
     "output_type": "stream",
     "text": [
      "C:\\Users\\hibi9\\AppData\\Local\\Temp\\ipykernel_18464\\301777156.py:5: LangChainDeprecationWarning: Please see the migration guide at: https://python.langchain.com/docs/versions/migrating_memory/\n",
      "  conversational_memory = ConversationBufferWindowMemory(\n"
     ]
    }
   ],
   "execution_count": 55
  },
  {
   "cell_type": "code",
   "source": [
    "# Example question\n",
    "question = \"What are the key points of the video\"\n",
    "answer = ask_question_with_timestamp(video_title, question)\n",
    "print(answer)"
   ],
   "metadata": {
    "colab": {
     "base_uri": "https://localhost:8080/"
    },
    "id": "4Klx6fJ6SS07",
    "executionInfo": {
     "status": "ok",
     "timestamp": 1730120720928,
     "user_tz": -60,
     "elapsed": 1447,
     "user": {
      "displayName": "Fabian Hieber",
      "userId": "06681858431281640040"
     }
    },
    "outputId": "00299eac-d9e7-4156-9b2a-c77f9757461f",
    "ExecuteTime": {
     "end_time": "2024-10-28T17:32:22.453406Z",
     "start_time": "2024-10-28T17:32:20.278643Z"
    }
   },
   "id": "4Klx6fJ6SS07",
   "outputs": [
    {
     "name": "stdout",
     "output_type": "stream",
     "text": [
      "{'answer': 'The video is about Google I/O, a conference where Google presents new technologies and updates. The speaker mentions AI Overviews, a feature that allows users to get an overview of AI in just seconds. The speaker also mentions that with AI Overviews, Google does the work for you.', 'timestamps': [116, 2663, 3086]}\n"
     ]
    }
   ],
   "execution_count": 63
  },
  {
   "metadata": {},
   "cell_type": "code",
   "outputs": [],
   "execution_count": null,
   "source": "",
   "id": "6b019595e94b0e09"
  }
 ],
 "metadata": {
  "kernelspec": {
   "display_name": "Python 3",
   "language": "python",
   "name": "python3"
  },
  "language_info": {
   "codemirror_mode": {
    "name": "ipython",
    "version": 2
   },
   "file_extension": ".py",
   "mimetype": "text/x-python",
   "name": "python",
   "nbconvert_exporter": "python",
   "pygments_lexer": "ipython2",
   "version": "2.7.6"
  },
  "colab": {
   "provenance": []
  }
 },
 "nbformat": 4,
 "nbformat_minor": 5
}
